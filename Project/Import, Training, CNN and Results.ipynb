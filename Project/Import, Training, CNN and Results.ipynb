{
 "cells": [
  {
   "cell_type": "code",
   "execution_count": 2,
   "id": "615cbb7b",
   "metadata": {},
   "outputs": [
    {
     "name": "stderr",
     "output_type": "stream",
     "text": [
      "2024-12-09 22:47:29.119313: I tensorflow/core/util/port.cc:153] oneDNN custom operations are on. You may see slightly different numerical results due to floating-point round-off errors from different computation orders. To turn them off, set the environment variable `TF_ENABLE_ONEDNN_OPTS=0`.\n",
      "2024-12-09 22:47:29.120724: I external/local_xla/xla/tsl/cuda/cudart_stub.cc:32] Could not find cuda drivers on your machine, GPU will not be used.\n",
      "2024-12-09 22:47:29.123594: I external/local_xla/xla/tsl/cuda/cudart_stub.cc:32] Could not find cuda drivers on your machine, GPU will not be used.\n",
      "2024-12-09 22:47:29.132794: E external/local_xla/xla/stream_executor/cuda/cuda_fft.cc:477] Unable to register cuFFT factory: Attempting to register factory for plugin cuFFT when one has already been registered\n",
      "WARNING: All log messages before absl::InitializeLog() is called are written to STDERR\n",
      "E0000 00:00:1733802449.148124 3539844 cuda_dnn.cc:8310] Unable to register cuDNN factory: Attempting to register factory for plugin cuDNN when one has already been registered\n",
      "E0000 00:00:1733802449.152742 3539844 cuda_blas.cc:1418] Unable to register cuBLAS factory: Attempting to register factory for plugin cuBLAS when one has already been registered\n",
      "2024-12-09 22:47:29.168785: I tensorflow/core/platform/cpu_feature_guard.cc:210] This TensorFlow binary is optimized to use available CPU instructions in performance-critical operations.\n",
      "To enable the following instructions: AVX2 AVX512F AVX512_VNNI FMA, in other operations, rebuild TensorFlow with the appropriate compiler flags.\n"
     ]
    }
   ],
   "source": [
    "import os\n",
    "import cv2\n",
    "import numpy as np\n",
    "import tensorflow as tf\n",
    "from tensorflow.keras.models import Sequential\n",
    "from tensorflow.keras.layers import Conv2D, MaxPooling2D, Flatten, Dense, Dropout\n",
    "from tensorflow.keras.callbacks import EarlyStopping, ReduceLROnPlateau\n",
    "from sklearn.model_selection import train_test_split\n",
    "from tqdm import tqdm"
   ]
  },
  {
   "cell_type": "markdown",
   "id": "e6bf79b8",
   "metadata": {},
   "source": [
    "### Path and Image Size"
   ]
  },
  {
   "cell_type": "code",
   "execution_count": 3,
   "id": "f4a8ffb2",
   "metadata": {},
   "outputs": [],
   "source": [
    "image_dir = \"/projectnb/ds340/projects/chop_dhruv/PNGimages/PNGImages\"\n",
    "label_dir = \"/projectnb/ds340/projects/chop_dhruv/PNGimages/OUT/OUT\"\n",
    "model_save_path = \"/projectnb/ds340/projects/chop_dhruv/pedestrian_detection_model_so_much.h5\"\n",
    "IMG_WIDTH, IMG_HEIGHT = 224, 224 "
   ]
  },
  {
   "cell_type": "markdown",
   "id": "cd2872a6",
   "metadata": {},
   "source": [
    "### Loading the Data"
   ]
  },
  {
   "cell_type": "code",
   "execution_count": 5,
   "id": "0a812a42",
   "metadata": {},
   "outputs": [
    {
     "name": "stderr",
     "output_type": "stream",
     "text": [
      "100%|██████████| 5903/5903 [00:34<00:00, 169.45it/s]\n"
     ]
    }
   ],
   "source": [
    "def load_data(image_dir, label_dir, max_images=10000):\n",
    "\n",
    "    images, labels = [], []\n",
    "    image_files = sorted([f for f in os.listdir(image_dir) if f.endswith(\".jpg\")])\n",
    "\n",
    "    if len(image_files) > max_images:\n",
    "        \n",
    "        image_files = image_files[:max_images]\n",
    "        \n",
    "    for image_file in tqdm(image_files):\n",
    "        image_path = os.path.join(image_dir, image_file)\n",
    "        label_path = os.path.join(label_dir, image_file.replace(\".jpg\", \".txt\")) # same names\n",
    "\n",
    "        if not os.path.exists(label_path):\n",
    "            print(f\"Label file missing for {image_file}\")\n",
    "            continue\n",
    "\n",
    "        img = cv2.imread(image_path)\n",
    "        if img is None:\n",
    "            print(f\"Error {image_file}\")\n",
    "            continue\n",
    "        img = cv2.cvtColor(img, cv2.COLOR_BGR2RGB)\n",
    "        img = cv2.resize(img, (IMG_WIDTH, IMG_HEIGHT))\n",
    "        img = img / 255.0\n",
    "\n",
    "        with open(label_path, \"r\") as f:\n",
    "            bboxes = []\n",
    "            for line in f:\n",
    "                parts = line.strip().split()\n",
    "                if len(parts) == 5:\n",
    "                    _, x_center, y_center, box_width, box_height = map(float, parts)\n",
    "                    bboxes.append([x_center, y_center, box_width, box_height])\n",
    "\n",
    "        images.append(img)\n",
    "        labels.append(np.array(bboxes)) \n",
    "\n",
    "    return np.array(images, dtype=np.float32), labels\n",
    "\n",
    "X, y = load_data(image_dir, label_dir)\n"
   ]
  },
  {
   "cell_type": "markdown",
   "id": "badd1739",
   "metadata": {},
   "source": [
    "### Train & Testing"
   ]
  },
  {
   "cell_type": "code",
   "execution_count": 6,
   "id": "6d7bca91",
   "metadata": {},
   "outputs": [],
   "source": [
    "X_train, X_val, y_train, y_val = train_test_split(X, y, test_size=0.2, random_state=42)"
   ]
  },
  {
   "cell_type": "markdown",
   "id": "a1cba186",
   "metadata": {},
   "source": [
    "### CNN"
   ]
  },
  {
   "cell_type": "code",
   "execution_count": 11,
   "id": "6f5da5d2",
   "metadata": {},
   "outputs": [],
   "source": [
    "model = Sequential([\n",
    "    Conv2D(32, (3, 3), activation='relu', input_shape=(IMG_HEIGHT, IMG_WIDTH, 3)),\n",
    "    MaxPooling2D((2, 2)),\n",
    "    Conv2D(64, (3, 3), activation='relu'),\n",
    "    MaxPooling2D((2, 2)),\n",
    "    Conv2D(128, (3, 3), activation='relu'),\n",
    "    MaxPooling2D((2, 2)),\n",
    "    Flatten(),\n",
    "    Dense(256, activation='relu'),\n",
    "    Dropout(0.5),\n",
    "    Dense(4)\n",
    "])\n",
    "\n",
    "early_stopping = EarlyStopping(monitor='val_loss', patience=5, restore_best_weights=True)\n",
    "reduce_lr = ReduceLROnPlateau(monitor='val_loss', factor=0.2, patience=3, min_lr=1e-6)"
   ]
  },
  {
   "cell_type": "markdown",
   "id": "6015a590",
   "metadata": {},
   "source": [
    "### Custom Loss Function "
   ]
  },
  {
   "cell_type": "code",
   "execution_count": 12,
   "id": "12f939ae",
   "metadata": {},
   "outputs": [],
   "source": [
    "def smooth_l1_loss(y_true, y_pred):\n",
    "    return tf.keras.losses.Huber()(y_true, y_pred)\n",
    "\n",
    "optimizer = tf.keras.optimizers.Adam(learning_rate=1e-4)\n",
    "model.compile(optimizer=optimizer, loss=smooth_l1_loss, metrics=['mae'])"
   ]
  },
  {
   "cell_type": "markdown",
   "id": "61d9182e",
   "metadata": {},
   "source": [
    "### Training Prep"
   ]
  },
  {
   "cell_type": "code",
   "execution_count": 13,
   "id": "7b4b817c",
   "metadata": {},
   "outputs": [],
   "source": [
    "def prepare_training_data(X, y):\n",
    "    X_train, y_train = [], []\n",
    "    for img, bboxes in zip(X, y):\n",
    "        for bbox in bboxes:\n",
    "            X_train.append(img)\n",
    "            y_train.append(bbox)\n",
    "    return np.array(X_train), np.array(y_train)\n",
    "\n",
    "X_train_prepared, y_train_prepared = prepare_training_data(X_train, y_train)\n",
    "X_val_prepared, y_val_prepared = prepare_training_data(X_val, y_val)"
   ]
  },
  {
   "cell_type": "markdown",
   "id": "53849f07",
   "metadata": {},
   "source": [
    "### Model.fit"
   ]
  },
  {
   "cell_type": "code",
   "execution_count": 14,
   "id": "6c060047",
   "metadata": {},
   "outputs": [
    {
     "name": "stdout",
     "output_type": "stream",
     "text": [
      "Epoch 1/50\n",
      "\u001b[1m1926/1926\u001b[0m \u001b[32m━━━━━━━━━━━━━━━━━━━━\u001b[0m\u001b[37m\u001b[0m \u001b[1m149s\u001b[0m 77ms/step - loss: 0.0128 - mae: 0.1103 - val_loss: 0.0085 - val_mae: 0.0768 - learning_rate: 1.0000e-04\n",
      "Epoch 2/50\n",
      "\u001b[1m1926/1926\u001b[0m \u001b[32m━━━━━━━━━━━━━━━━━━━━\u001b[0m\u001b[37m\u001b[0m \u001b[1m142s\u001b[0m 73ms/step - loss: 0.0091 - mae: 0.0862 - val_loss: 0.0082 - val_mae: 0.0765 - learning_rate: 1.0000e-04\n",
      "Epoch 3/50\n",
      "\u001b[1m1926/1926\u001b[0m \u001b[32m━━━━━━━━━━━━━━━━━━━━\u001b[0m\u001b[37m\u001b[0m \u001b[1m143s\u001b[0m 74ms/step - loss: 0.0082 - mae: 0.0790 - val_loss: 0.0079 - val_mae: 0.0736 - learning_rate: 1.0000e-04\n",
      "Epoch 4/50\n",
      "\u001b[1m1926/1926\u001b[0m \u001b[32m━━━━━━━━━━━━━━━━━━━━\u001b[0m\u001b[37m\u001b[0m \u001b[1m144s\u001b[0m 75ms/step - loss: 0.0078 - mae: 0.0750 - val_loss: 0.0079 - val_mae: 0.0729 - learning_rate: 1.0000e-04\n",
      "Epoch 5/50\n",
      "\u001b[1m1926/1926\u001b[0m \u001b[32m━━━━━━━━━━━━━━━━━━━━\u001b[0m\u001b[37m\u001b[0m \u001b[1m148s\u001b[0m 77ms/step - loss: 0.0075 - mae: 0.0723 - val_loss: 0.0079 - val_mae: 0.0738 - learning_rate: 1.0000e-04\n",
      "Epoch 6/50\n",
      "\u001b[1m1926/1926\u001b[0m \u001b[32m━━━━━━━━━━━━━━━━━━━━\u001b[0m\u001b[37m\u001b[0m \u001b[1m151s\u001b[0m 78ms/step - loss: 0.0072 - mae: 0.0694 - val_loss: 0.0078 - val_mae: 0.0720 - learning_rate: 1.0000e-04\n",
      "Epoch 7/50\n",
      "\u001b[1m1926/1926\u001b[0m \u001b[32m━━━━━━━━━━━━━━━━━━━━\u001b[0m\u001b[37m\u001b[0m \u001b[1m150s\u001b[0m 78ms/step - loss: 0.0071 - mae: 0.0682 - val_loss: 0.0080 - val_mae: 0.0733 - learning_rate: 1.0000e-04\n",
      "Epoch 8/50\n",
      "\u001b[1m1926/1926\u001b[0m \u001b[32m━━━━━━━━━━━━━━━━━━━━\u001b[0m\u001b[37m\u001b[0m \u001b[1m141s\u001b[0m 73ms/step - loss: 0.0069 - mae: 0.0671 - val_loss: 0.0078 - val_mae: 0.0720 - learning_rate: 1.0000e-04\n",
      "Epoch 9/50\n",
      "\u001b[1m1926/1926\u001b[0m \u001b[32m━━━━━━━━━━━━━━━━━━━━\u001b[0m\u001b[37m\u001b[0m \u001b[1m143s\u001b[0m 74ms/step - loss: 0.0068 - mae: 0.0661 - val_loss: 0.0077 - val_mae: 0.0714 - learning_rate: 1.0000e-04\n",
      "Epoch 10/50\n",
      "\u001b[1m1926/1926\u001b[0m \u001b[32m━━━━━━━━━━━━━━━━━━━━\u001b[0m\u001b[37m\u001b[0m \u001b[1m144s\u001b[0m 75ms/step - loss: 0.0065 - mae: 0.0643 - val_loss: 0.0076 - val_mae: 0.0709 - learning_rate: 2.0000e-05\n",
      "Epoch 11/50\n",
      "\u001b[1m1926/1926\u001b[0m \u001b[32m━━━━━━━━━━━━━━━━━━━━\u001b[0m\u001b[37m\u001b[0m \u001b[1m145s\u001b[0m 75ms/step - loss: 0.0064 - mae: 0.0640 - val_loss: 0.0077 - val_mae: 0.0713 - learning_rate: 2.0000e-05\n",
      "Epoch 12/50\n",
      "\u001b[1m1926/1926\u001b[0m \u001b[32m━━━━━━━━━━━━━━━━━━━━\u001b[0m\u001b[37m\u001b[0m \u001b[1m146s\u001b[0m 76ms/step - loss: 0.0064 - mae: 0.0637 - val_loss: 0.0077 - val_mae: 0.0716 - learning_rate: 2.0000e-05\n",
      "Epoch 13/50\n",
      "\u001b[1m1926/1926\u001b[0m \u001b[32m━━━━━━━━━━━━━━━━━━━━\u001b[0m\u001b[37m\u001b[0m \u001b[1m148s\u001b[0m 77ms/step - loss: 0.0064 - mae: 0.0639 - val_loss: 0.0076 - val_mae: 0.0713 - learning_rate: 2.0000e-05\n",
      "Epoch 14/50\n",
      "\u001b[1m1926/1926\u001b[0m \u001b[32m━━━━━━━━━━━━━━━━━━━━\u001b[0m\u001b[37m\u001b[0m \u001b[1m149s\u001b[0m 77ms/step - loss: 0.0063 - mae: 0.0633 - val_loss: 0.0076 - val_mae: 0.0712 - learning_rate: 4.0000e-06\n",
      "Epoch 15/50\n",
      "\u001b[1m1926/1926\u001b[0m \u001b[32m━━━━━━━━━━━━━━━━━━━━\u001b[0m\u001b[37m\u001b[0m \u001b[1m148s\u001b[0m 77ms/step - loss: 0.0064 - mae: 0.0635 - val_loss: 0.0076 - val_mae: 0.0710 - learning_rate: 4.0000e-06\n"
     ]
    }
   ],
   "source": [
    "history = model.fit(\n",
    "    X_train_prepared, y_train_prepared,\n",
    "    validation_data=(X_val_prepared, y_val_prepared),\n",
    "    epochs=50,\n",
    "    batch_size=16,\n",
    "    callbacks=[early_stopping, reduce_lr]\n",
    ")"
   ]
  },
  {
   "cell_type": "markdown",
   "id": "6f11910a",
   "metadata": {},
   "source": [
    "### Save"
   ]
  },
  {
   "cell_type": "code",
   "execution_count": 15,
   "id": "2e336f31",
   "metadata": {},
   "outputs": [
    {
     "name": "stderr",
     "output_type": "stream",
     "text": [
      "WARNING:absl:You are saving your model as an HDF5 file via `model.save()` or `keras.saving.save_model(model)`. This file format is considered legacy. We recommend using instead the native Keras format, e.g. `model.save('my_model.keras')` or `keras.saving.save_model(model, 'my_model.keras')`. \n"
     ]
    },
    {
     "name": "stdout",
     "output_type": "stream",
     "text": [
      "Model saved to /projectnb/ds340/projects/chop_dhruv/pedestrian_detection_model_so_much.h5\n"
     ]
    }
   ],
   "source": [
    "model.save(model_save_path)\n",
    "print(f\"Model saved to {model_save_path}\")"
   ]
  },
  {
   "cell_type": "markdown",
   "id": "fa15ab2a",
   "metadata": {},
   "source": [
    "### Intersection Over Union (Accuracy)"
   ]
  },
  {
   "cell_type": "code",
   "execution_count": 16,
   "id": "86e0694d",
   "metadata": {},
   "outputs": [],
   "source": [
    "def compute_iou(box1, box2):\n",
    "    x1_min, y1_min, x1_max, y1_max = box1\n",
    "    x2_min, y2_min, x2_max, y2_max = box2\n",
    "\n",
    "    inter_x_min = max(x1_min, x2_min)\n",
    "    inter_y_min = max(y1_min, y2_min)\n",
    "    inter_x_max = min(x1_max, x2_max)\n",
    "    inter_y_max = min(y1_max, y2_max)\n",
    "\n",
    "    inter_width = max(0, inter_x_max - inter_x_min)\n",
    "    inter_height = max(0, inter_y_max - inter_y_min)\n",
    "    inter_area = inter_width * inter_height\n",
    "\n",
    "    if inter_area == 0:\n",
    "        return 0\n",
    "\n",
    "    box1_area = (x1_max - x1_min) * (y1_max - y1_min)\n",
    "    box2_area = (x2_max - x2_min) * (y2_max - y2_min)\n",
    "    union_area = box1_area + box2_area - inter_area\n",
    "\n",
    "    return inter_area / union_area"
   ]
  },
  {
   "cell_type": "markdown",
   "id": "a8fc0946",
   "metadata": {},
   "source": [
    "## Predicting and Output "
   ]
  },
  {
   "cell_type": "code",
   "execution_count": 17,
   "id": "c32cf906",
   "metadata": {},
   "outputs": [],
   "source": [
    "def evaluate_model(X, y, model, iou_threshold=0): # zero explained why in report\n",
    "    correct_predictions = 0\n",
    "    total_images = len(X)\n",
    "\n",
    "    preds = model.predict(X)\n",
    "\n",
    "    for true_boxes, pred_box in zip(y, preds):\n",
    "        image_correct = False\n",
    "\n",
    "        pred_coords = [\n",
    "            (pred_box[0] - pred_box[2] / 2) * IMG_WIDTH,  \n",
    "            (pred_box[1] - pred_box[3] / 2) * IMG_HEIGHT, \n",
    "            (pred_box[0] + pred_box[2] / 2) * IMG_WIDTH, \n",
    "            (pred_box[1] + pred_box[3] / 2) * IMG_HEIGHT,  \n",
    "        ]\n",
    "\n",
    "        for true_box in true_boxes:\n",
    "            if np.all(true_box == 0):\n",
    "                continue\n",
    "\n",
    "            true_coords = [\n",
    "                (true_box[0] - true_box[2] / 2) * IMG_WIDTH,  \n",
    "                (true_box[1] - true_box[3] / 2) * IMG_HEIGHT,  \n",
    "                (true_box[0] + true_box[2] / 2) * IMG_WIDTH, \n",
    "                (true_box[1] + true_box[3] / 2) * IMG_HEIGHT, \n",
    "            ]\n",
    "\n",
    "            iou = compute_iou(true_coords, pred_coords)\n",
    "\n",
    "            if iou >= iou_threshold:\n",
    "                image_correct = True\n",
    "                break\n",
    "\n",
    "        if image_correct:\n",
    "            correct_predictions += 1\n",
    "\n",
    "    accuracy = correct_predictions / total_images\n",
    "    print(f\"Model Accuracy (any overlap): {accuracy:.4f}\")\n",
    "    return accuracy"
   ]
  },
  {
   "cell_type": "markdown",
   "id": "d51a3cf3",
   "metadata": {},
   "source": [
    "### Evaluate"
   ]
  },
  {
   "cell_type": "code",
   "execution_count": 18,
   "id": "d00d3d88",
   "metadata": {},
   "outputs": [
    {
     "name": "stdout",
     "output_type": "stream",
     "text": [
      "\u001b[1m37/37\u001b[0m \u001b[32m━━━━━━━━━━━━━━━━━━━━\u001b[0m\u001b[37m\u001b[0m \u001b[1m1s\u001b[0m 27ms/step\n",
      "Model Accuracy (any overlap): 0.8408\n"
     ]
    },
    {
     "data": {
      "text/plain": [
       "0.8408128704487722"
      ]
     },
     "execution_count": 18,
     "metadata": {},
     "output_type": "execute_result"
    }
   ],
   "source": [
    "evaluate_model(X_val, y_val, model)"
   ]
  },
  {
   "cell_type": "code",
   "execution_count": null,
   "id": "536bfef4",
   "metadata": {},
   "outputs": [],
   "source": []
  }
 ],
 "metadata": {
  "kernelspec": {
   "display_name": "Python 3 (ipykernel)",
   "language": "python",
   "name": "python3"
  },
  "language_info": {
   "codemirror_mode": {
    "name": "ipython",
    "version": 3
   },
   "file_extension": ".py",
   "mimetype": "text/x-python",
   "name": "python",
   "nbconvert_exporter": "python",
   "pygments_lexer": "ipython3",
   "version": "3.10.12"
  }
 },
 "nbformat": 4,
 "nbformat_minor": 5
}
